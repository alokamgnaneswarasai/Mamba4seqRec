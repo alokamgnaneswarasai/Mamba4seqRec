{
 "cells": [
  {
   "cell_type": "code",
   "execution_count": 6,
   "metadata": {},
   "outputs": [
    {
     "name": "stdout",
     "output_type": "stream",
     "text": [
      "user_id:token\talbums_id:token\ttimestamp:float\tnum_repeat:float\n",
      "31435741\t4\t1385212958\t31\n",
      "31435741\t15\t1381867823\t23\n",
      "31435741\t17\t1381867431\t22\n",
      "31435741\t31\t1370977938\t54\n",
      "117997822\n"
     ]
    }
   ],
   "source": [
    "# just print the first five lines in the dataset/lfm1b-albums/lfm1b_tracks.inter\n",
    "import sys\n",
    "\n",
    "with open('./dataset/lfm1b-albums/lfm1b-albums.inter', 'r') as f:\n",
    "    for i in range(5):\n",
    "        print(f.readline().strip())\n",
    "        \n",
    "        \n",
    "# check the nooflines in the file\n",
    "with open('./dataset/lfm1b-albums/lfm1b-albums.inter', 'r') as f:\n",
    "    print(len(f.readlines()))\n",
    "    \n",
    "        "
   ]
  },
  {
   "cell_type": "code",
   "execution_count": null,
   "metadata": {},
   "outputs": [],
   "source": []
  }
 ],
 "metadata": {
  "kernelspec": {
   "display_name": "Python 3",
   "language": "python",
   "name": "python3"
  },
  "language_info": {
   "codemirror_mode": {
    "name": "ipython",
    "version": 3
   },
   "file_extension": ".py",
   "mimetype": "text/x-python",
   "name": "python",
   "nbconvert_exporter": "python",
   "pygments_lexer": "ipython3",
   "version": "3.8.10"
  }
 },
 "nbformat": 4,
 "nbformat_minor": 2
}
